{
 "cells": [
  {
   "cell_type": "code",
   "execution_count": 10,
   "id": "b7710ce6-1426-48ca-86c2-c4b7d0f990a8",
   "metadata": {},
   "outputs": [
    {
     "name": "stdout",
     "output_type": "stream",
     "text": [
      "Requirement already satisfied: pandas in /opt/conda/lib/python3.10/site-packages (1.5.2)\n",
      "Requirement already satisfied: python-dateutil>=2.8.1 in /opt/conda/lib/python3.10/site-packages (from pandas) (2.8.2)\n",
      "Requirement already satisfied: pytz>=2020.1 in /opt/conda/lib/python3.10/site-packages (from pandas) (2022.6)\n",
      "Requirement already satisfied: numpy>=1.21.0 in /opt/conda/lib/python3.10/site-packages (from pandas) (1.23.5)\n",
      "Requirement already satisfied: six>=1.5 in /opt/conda/lib/python3.10/site-packages (from python-dateutil>=2.8.1->pandas) (1.16.0)\n",
      "Note: you may need to restart the kernel to use updated packages.\n"
     ]
    }
   ],
   "source": [
    "pip install pandas"
   ]
  },
  {
   "cell_type": "code",
   "execution_count": 4,
   "id": "f1c42e02-01bd-4238-81fa-40b0376caed6",
   "metadata": {},
   "outputs": [],
   "source": [
    "import pandas as pd"
   ]
  },
  {
   "cell_type": "markdown",
   "id": "a16cb05c-e109-41d4-b5cf-ca4008942716",
   "metadata": {},
   "source": [
    "Q1. List any five functions of the pandas library with execution."
   ]
  },
  {
   "cell_type": "code",
   "execution_count": 2,
   "id": "19f11f37-1bff-449d-908d-a8ac774034d9",
   "metadata": {},
   "outputs": [],
   "source": [
    "# Answer:\n",
    "# 1. pd.read_csv(): This function is used to read a CSV file and convert it to a Pandas DataFrame.\n",
    "# 2. df.groupby(): This function is used to group rows of a DataFrame based on the values in one or more columns.\n",
    "# 3. df.merge(): This function is used to combine two DataFrames based on one or more common columns.\n",
    "# 4. df.pivot_table(): This function is used to create a pivot table from a DataFrame.\n",
    "# 5. df.plot(): This function is used to create a plot from a DataFrame."
   ]
  },
  {
   "cell_type": "markdown",
   "id": "01bc4e08-bb93-4f47-8cff-7c608a67882e",
   "metadata": {},
   "source": [
    "Q2. Given a Pandas DataFrame df with columns 'A', 'B', and 'C', write a Python function to re-index the \n",
    "DataFrame with a new index that starts from 1 and increments by 2 for each row."
   ]
  },
  {
   "cell_type": "code",
   "execution_count": 9,
   "id": "56bc9f4f-92b6-4aad-9dbe-ebc4943858bd",
   "metadata": {},
   "outputs": [],
   "source": [
    "def reindex_df(df):\n",
    "    # Get the number of rows in the DataFrame\n",
    "    num_rows = len(df)\n",
    "    # Create a new index that starts from 1 and increments by 2 for each row\n",
    "    new_index = pd.RangeIndex(start=1, stop=num_rows*2, step=2)\n",
    "    # Re-index the DataFrame with the new index\n",
    "    df = df.reindex(new_index)\n",
    "    return df"
   ]
  },
  {
   "cell_type": "markdown",
   "id": "82cfd42b-3d7d-48a3-84b9-dc4f7bd5c087",
   "metadata": {},
   "source": [
    "Q3. You have a Pandas DataFrame df with a column named 'Values'. Write a Python function that \n",
    "iterates over the DataFrame and calculates the sum of the first three values in the 'Values' column. The \n",
    "function should print the sum to the console.\n",
    "\n",
    "For example, if the 'Values' column of df contains the values [10, 20, 30, 40, 50], your function should \n",
    "calculate and print the sum of the first three values, which is 60."
   ]
  },
  {
   "cell_type": "code",
   "execution_count": 12,
   "id": "aa5246c8-0e1c-4e03-861e-6c98f919b8c4",
   "metadata": {},
   "outputs": [
    {
     "name": "stdout",
     "output_type": "stream",
     "text": [
      "60\n"
     ]
    }
   ],
   "source": [
    "def sum_of_values(df):\n",
    "    values = df['Values'][:3]\n",
    "    total = sum(values)\n",
    "    print(total)\n",
    "    \n",
    "# Creating a sample DataFrame\n",
    "df = pd.DataFrame({'Values': [10, 20, 30, 40, 50]})\n",
    "sum_of_values(df)\n"
   ]
  },
  {
   "cell_type": "markdown",
   "id": "c255061e-6f38-4952-bbaf-3d62277791bc",
   "metadata": {},
   "source": [
    "Q4. Given a Pandas DataFrame df with a column 'Text', write a Python function to create a new column \n",
    "'Word_Count' that contains the number of words in each row of the 'Text' column."
   ]
  },
  {
   "cell_type": "code",
   "execution_count": 13,
   "id": "386e5413-4bba-41e4-91a7-8d54cd3a1263",
   "metadata": {},
   "outputs": [],
   "source": [
    "def add_word_count(df):\n",
    "    words = df['Text'].str.split()\n",
    "    word_count = words.apply(len)\n",
    "    df['Word_Count'] = word_count\n",
    "    return df"
   ]
  },
  {
   "cell_type": "markdown",
   "id": "091c3f15-50ff-4dbe-9d84-87cd670ce0e4",
   "metadata": {},
   "source": [
    "Q5. How are DataFrame.size() and DataFrame.shape() different?"
   ]
  },
  {
   "cell_type": "code",
   "execution_count": 12,
   "id": "49957597-8137-49a9-8d05-c7f8cb6ef3bb",
   "metadata": {},
   "outputs": [
    {
     "name": "stdout",
     "output_type": "stream",
     "text": [
      "Output of size method: 9\n",
      "Output of shape method: (3, 3)\n"
     ]
    }
   ],
   "source": [
    "import pandas as pd\n",
    "df = pd.DataFrame({'A': [1, 2, 3], 'B': [4, 5, 6], 'C': [7, 8, 9]})\n",
    "\n",
    "# Using the size() method\n",
    "print(\"Output of size method:\",df.size) #DataFrame.size() returns the total number of elements in the DataFrame\n",
    "\n",
    "# Using the shape() method\n",
    "print(\"Output of shape method:\",df.shape) #DataFrame.shape() returns a tuple containing the number of rows and columns in the DataFrame, in that order.\n"
   ]
  },
  {
   "cell_type": "markdown",
   "id": "58b14f75-0e9f-4d10-9381-58333897f74a",
   "metadata": {},
   "source": [
    "Q6. Which function of pandas do we use to read an excel file?"
   ]
  },
  {
   "cell_type": "code",
   "execution_count": null,
   "id": "3a895041-4547-4761-b2ee-128ab35fa5f4",
   "metadata": {},
   "outputs": [],
   "source": [
    "# Answer:\n",
    "'''In Pandas, we use the read_excel() function to read data from an Excel file. This function can read both .xls and .xlsx file formats.'''"
   ]
  },
  {
   "cell_type": "markdown",
   "id": "8ddcff74-45f3-40ac-ae13-2681a1d9fcb9",
   "metadata": {},
   "source": [
    "Q7. You have a Pandas DataFrame df that contains a column named 'Email' that contains email \n",
    "addresses in the format 'username@domain.com'. Write a Python function that creates a new column \n",
    "'Username' in df that contains only the username part of each email address.\n",
    "\n",
    "The username is the part of the email address that appears before the '@' symbol. For example, if the \n",
    "email address is 'john.doe@example.com', the 'Username' column should contain 'john.doe'. Your \n",
    "function should extract the username from each email address and store it in the new 'Username' \n",
    "column."
   ]
  },
  {
   "cell_type": "code",
   "execution_count": 18,
   "id": "3e19f885-de3f-484a-9dad-3af7b65a9db1",
   "metadata": {},
   "outputs": [
    {
     "data": {
      "text/html": [
       "<div>\n",
       "<style scoped>\n",
       "    .dataframe tbody tr th:only-of-type {\n",
       "        vertical-align: middle;\n",
       "    }\n",
       "\n",
       "    .dataframe tbody tr th {\n",
       "        vertical-align: top;\n",
       "    }\n",
       "\n",
       "    .dataframe thead th {\n",
       "        text-align: right;\n",
       "    }\n",
       "</style>\n",
       "<table border=\"1\" class=\"dataframe\">\n",
       "  <thead>\n",
       "    <tr style=\"text-align: right;\">\n",
       "      <th></th>\n",
       "      <th>Email</th>\n",
       "      <th>Username</th>\n",
       "    </tr>\n",
       "  </thead>\n",
       "  <tbody>\n",
       "    <tr>\n",
       "      <th>0</th>\n",
       "      <td>john.doe@example.com</td>\n",
       "      <td>john.doe</td>\n",
       "    </tr>\n",
       "    <tr>\n",
       "      <th>1</th>\n",
       "      <td>jaoswalji@gmail.com</td>\n",
       "      <td>jaoswalji</td>\n",
       "    </tr>\n",
       "  </tbody>\n",
       "</table>\n",
       "</div>"
      ],
      "text/plain": [
       "                  Email   Username\n",
       "0  john.doe@example.com   john.doe\n",
       "1   jaoswalji@gmail.com  jaoswalji"
      ]
     },
     "execution_count": 18,
     "metadata": {},
     "output_type": "execute_result"
    }
   ],
   "source": [
    "def username(df):\n",
    "    # Splitting the email addresses at '@' and extracting the first part\n",
    "    usernames = df['Email'].apply(lambda x: x.split('@')[0])\n",
    "    df['Username'] = usernames\n",
    "    return df\n",
    "df = pd.DataFrame({'Email':['john.doe@example.com','jaoswalji@gmail.com']})\n",
    "username(df)"
   ]
  },
  {
   "cell_type": "markdown",
   "id": "b867d455-4e44-4d1e-8158-daab99dcc337",
   "metadata": {},
   "source": [
    "Q8. You have a Pandas DataFrame df with columns 'A', 'B', and 'C'. Write a Python function that selects \n",
    "all rows where the value in column 'A' is greater than 5 and the value in column 'B' is less than 10. The \n",
    "function should return a new DataFrame that contains only the selected rows.\n",
    "\n",
    "For example, if df contains the following values:\n",
    "\n",
    "   A   B   C\n",
    "\n",
    "0  3   5   1\n",
    "\n",
    "1  8   2   7\n",
    "\n",
    "2  6   9   4\n",
    "\n",
    "3  2   3   5\n",
    "\n",
    "4  9   1   2\n",
    "Assignment\n",
    "Data Science Masters\n",
    "Your function should select the following rows:   A   B   C\n",
    "\n",
    "1  8   2   7\n",
    "\n",
    "4  9   1   2\n",
    "\n",
    "The function should return a new DataFrame that contains only the selected rows."
   ]
  },
  {
   "cell_type": "code",
   "execution_count": 19,
   "id": "04e264db-d939-4978-91d0-8dfc4288b659",
   "metadata": {},
   "outputs": [
    {
     "data": {
      "text/html": [
       "<div>\n",
       "<style scoped>\n",
       "    .dataframe tbody tr th:only-of-type {\n",
       "        vertical-align: middle;\n",
       "    }\n",
       "\n",
       "    .dataframe tbody tr th {\n",
       "        vertical-align: top;\n",
       "    }\n",
       "\n",
       "    .dataframe thead th {\n",
       "        text-align: right;\n",
       "    }\n",
       "</style>\n",
       "<table border=\"1\" class=\"dataframe\">\n",
       "  <thead>\n",
       "    <tr style=\"text-align: right;\">\n",
       "      <th></th>\n",
       "      <th>A</th>\n",
       "      <th>B</th>\n",
       "      <th>C</th>\n",
       "    </tr>\n",
       "  </thead>\n",
       "  <tbody>\n",
       "    <tr>\n",
       "      <th>1</th>\n",
       "      <td>8</td>\n",
       "      <td>2</td>\n",
       "      <td>7</td>\n",
       "    </tr>\n",
       "    <tr>\n",
       "      <th>2</th>\n",
       "      <td>6</td>\n",
       "      <td>9</td>\n",
       "      <td>4</td>\n",
       "    </tr>\n",
       "    <tr>\n",
       "      <th>4</th>\n",
       "      <td>9</td>\n",
       "      <td>1</td>\n",
       "      <td>2</td>\n",
       "    </tr>\n",
       "  </tbody>\n",
       "</table>\n",
       "</div>"
      ],
      "text/plain": [
       "   A  B  C\n",
       "1  8  2  7\n",
       "2  6  9  4\n",
       "4  9  1  2"
      ]
     },
     "execution_count": 19,
     "metadata": {},
     "output_type": "execute_result"
    }
   ],
   "source": [
    "def select_rows(df):\n",
    "    # Boolean indexing to select rows based on conditions\n",
    "    selected_rows = df.loc[(df['A'] > 5) & (df['B'] < 10)]\n",
    "    return selected_rows\n",
    "df = pd.DataFrame({'A': [3,8,6,2,9],'B':[5,2,9,3,1],'C':[1,7,4,5,2]})\n",
    "select_rows(df)"
   ]
  },
  {
   "cell_type": "markdown",
   "id": "80fc637a-7763-420f-b676-f5b0e6eb5873",
   "metadata": {},
   "source": [
    "Q9. Given a Pandas DataFrame df with a column 'Values', write a Python function to calculate the mean, \n",
    "median, and standard deviation of the values in the 'Values' column."
   ]
  },
  {
   "cell_type": "code",
   "execution_count": 23,
   "id": "c38d6234-e699-44b8-bad2-b08c2411af67",
   "metadata": {},
   "outputs": [
    {
     "name": "stdout",
     "output_type": "stream",
     "text": [
      "Mean: 30.0\n",
      "Median: 30.0\n",
      "Standard Deviation: 15.811388300841896\n"
     ]
    }
   ],
   "source": [
    "def calculate(df, column):\n",
    "    # Calculate mean, median, and standard deviation\n",
    "    mean = df[column].mean()\n",
    "    median = df[column].median()\n",
    "    std_dev = df[column].std()\n",
    "    print(\"Mean:\", mean)\n",
    "    print(\"Median:\", median)\n",
    "    print(\"Standard Deviation:\", std_dev)\n",
    "\n",
    "df = pd.DataFrame({'Values': [10, 20, 30, 40, 50]})\n",
    "calculate(df, 'Values')"
   ]
  },
  {
   "cell_type": "markdown",
   "id": "c8445bb4-5bce-45e7-a8c8-7dd19a2a49c2",
   "metadata": {},
   "source": [
    "Q10. Given a Pandas DataFrame df with a column 'Sales' and a column 'Date', write a Python function to \n",
    "create a new column 'MovingAverage' that contains the moving average of the sales for the past 7 days \n",
    "for each row in the DataFrame. The moving average should be calculated using a window of size 7 and \n",
    "should include the current day."
   ]
  },
  {
   "cell_type": "code",
   "execution_count": 24,
   "id": "d032adfb-f8fd-496f-b65d-96d35ba3be7a",
   "metadata": {},
   "outputs": [],
   "source": [
    "def calculate_moving_average(df):\n",
    "    df['MovingAverage'] = df['Sales'].rolling(window=7, min_periods=1).mean()\n",
    "    return df\n"
   ]
  },
  {
   "cell_type": "markdown",
   "id": "8622b4e3-0437-4ea9-9a88-94261c17aa96",
   "metadata": {},
   "source": [
    "Q11. You have a Pandas DataFrame df with a column 'Date'. Write a Python function that creates a new \n",
    "column 'Weekday' in the DataFrame. The 'Weekday' column should contain the weekday name (e.g. \n",
    "Monday, Tuesday) corresponding to each date in the 'Date' column.\n",
    "\n",
    "For example, if df contains the following values:\n",
    "\n",
    "         Date\n",
    "\n",
    "0  2023-01-01\n",
    "\n",
    "1  2023-01-02\n",
    "\n",
    "2  2023-01-03\n",
    "\n",
    "3  2023-01-04\n",
    "\n",
    "4  2023-01-05\n",
    "\n",
    "Your function should create the following DataFrame:\n",
    "\n",
    "\n",
    "         Date    Weekday\n",
    "\n",
    "0  2023-01-01    Sunday\n",
    "\n",
    "1  2023-01-02     Monday\n",
    "\n",
    "2  2023-01-03    Tuesday\n",
    "\n",
    "3  2023-01-04    Wednesday\n",
    "\n",
    "4  2023-01-05    Thursday\n",
    "\n",
    "The function should return the modified DataFrame. "
   ]
  },
  {
   "cell_type": "code",
   "execution_count": 11,
   "id": "5fb31703-bbfe-4f7a-a50d-01c2a49ffa2d",
   "metadata": {},
   "outputs": [
    {
     "data": {
      "text/html": [
       "<div>\n",
       "<style scoped>\n",
       "    .dataframe tbody tr th:only-of-type {\n",
       "        vertical-align: middle;\n",
       "    }\n",
       "\n",
       "    .dataframe tbody tr th {\n",
       "        vertical-align: top;\n",
       "    }\n",
       "\n",
       "    .dataframe thead th {\n",
       "        text-align: right;\n",
       "    }\n",
       "</style>\n",
       "<table border=\"1\" class=\"dataframe\">\n",
       "  <thead>\n",
       "    <tr style=\"text-align: right;\">\n",
       "      <th></th>\n",
       "      <th>Date</th>\n",
       "      <th>Weekday</th>\n",
       "    </tr>\n",
       "  </thead>\n",
       "  <tbody>\n",
       "    <tr>\n",
       "      <th>0</th>\n",
       "      <td>2023-01-01</td>\n",
       "      <td>Sunday</td>\n",
       "    </tr>\n",
       "    <tr>\n",
       "      <th>1</th>\n",
       "      <td>2023-01-02</td>\n",
       "      <td>Monday</td>\n",
       "    </tr>\n",
       "    <tr>\n",
       "      <th>2</th>\n",
       "      <td>2023-01-03</td>\n",
       "      <td>Tuesday</td>\n",
       "    </tr>\n",
       "    <tr>\n",
       "      <th>3</th>\n",
       "      <td>2023-01-04</td>\n",
       "      <td>Wednesday</td>\n",
       "    </tr>\n",
       "    <tr>\n",
       "      <th>4</th>\n",
       "      <td>2023-01-05</td>\n",
       "      <td>Thursday</td>\n",
       "    </tr>\n",
       "  </tbody>\n",
       "</table>\n",
       "</div>"
      ],
      "text/plain": [
       "        Date    Weekday\n",
       "0 2023-01-01     Sunday\n",
       "1 2023-01-02     Monday\n",
       "2 2023-01-03    Tuesday\n",
       "3 2023-01-04  Wednesday\n",
       "4 2023-01-05   Thursday"
      ]
     },
     "execution_count": 11,
     "metadata": {},
     "output_type": "execute_result"
    }
   ],
   "source": [
    "def add_weekday_column(df):\n",
    "    df['Weekday'] = pd.to_datetime(df['Date']).dt.strftime('%A')\n",
    "    return df\n",
    "\n",
    "df = pd.DataFrame({'Date': pd.date_range(start='2023-01-01', end='2023-01-05')})\n",
    "df = add_weekday_column(df)\n",
    "df\n"
   ]
  },
  {
   "cell_type": "markdown",
   "id": "cb42b311-c3cc-4865-b75c-eb26b424787d",
   "metadata": {},
   "source": [
    "Q12. Given a Pandas DataFrame df with a column 'Date' that contains timestamps, write a Python \n",
    "function to select all rows where the date is between '2023-01-01' and '2023-01-31'."
   ]
  },
  {
   "cell_type": "code",
   "execution_count": 15,
   "id": "fb0d20f9-d9c1-452f-b9b5-e0d2a009a63d",
   "metadata": {},
   "outputs": [],
   "source": [
    "def time_rows(df):\n",
    "    df['Date'] = pd.to_datetime(df['Date'])\n",
    "    # Filter the DataFrame to select rows where the date is between '2023-01-01' and '2023-01-31'\n",
    "    mask = (df['Date'] >= '2023-01-01') & (df['Date'] <= '2023-01-31')\n",
    "    result = df.loc[mask]\n",
    "    return result\n"
   ]
  },
  {
   "cell_type": "markdown",
   "id": "6ce39ed6-ad86-40af-9562-bd2931f17da4",
   "metadata": {},
   "source": [
    "Q13. To use the basic functions of pandas, what is the first and foremost necessary library that needs to \n",
    "be imported?"
   ]
  },
  {
   "cell_type": "code",
   "execution_count": 16,
   "id": "9eb5f118-3cf8-4557-82b6-a1fce0c134ed",
   "metadata": {},
   "outputs": [
    {
     "data": {
      "text/plain": [
       "\"The first and foremost necessary library that needs to be imported to use the basic functions of pandas is 'pandas' itself. \\n    The conventional way of importing pandas is by using the statement import pandas as pd.\""
      ]
     },
     "execution_count": 16,
     "metadata": {},
     "output_type": "execute_result"
    }
   ],
   "source": [
    "# Answer:\n",
    "'''The first and foremost necessary library that needs to be imported to use the basic functions of pandas is 'pandas' itself. \n",
    "    The conventional way of importing pandas is by using the statement import pandas as pd.'''"
   ]
  },
  {
   "cell_type": "code",
   "execution_count": null,
   "id": "90739897-c85a-41f9-b6d2-a55fe6ac000c",
   "metadata": {},
   "outputs": [],
   "source": []
  }
 ],
 "metadata": {
  "kernelspec": {
   "display_name": "Python 3 (ipykernel)",
   "language": "python",
   "name": "python3"
  },
  "language_info": {
   "codemirror_mode": {
    "name": "ipython",
    "version": 3
   },
   "file_extension": ".py",
   "mimetype": "text/x-python",
   "name": "python",
   "nbconvert_exporter": "python",
   "pygments_lexer": "ipython3",
   "version": "3.10.8"
  }
 },
 "nbformat": 4,
 "nbformat_minor": 5
}
