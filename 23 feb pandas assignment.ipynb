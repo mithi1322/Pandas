{
 "cells": [
  {
   "cell_type": "code",
   "execution_count": 1,
   "id": "042025c9-4233-4d9b-b4e8-4947cde311a2",
   "metadata": {},
   "outputs": [
    {
     "name": "stdout",
     "output_type": "stream",
     "text": [
      "Requirement already satisfied: pandas in /opt/conda/lib/python3.10/site-packages (1.5.2)\n",
      "Requirement already satisfied: python-dateutil>=2.8.1 in /opt/conda/lib/python3.10/site-packages (from pandas) (2.8.2)\n",
      "Requirement already satisfied: pytz>=2020.1 in /opt/conda/lib/python3.10/site-packages (from pandas) (2022.6)\n",
      "Requirement already satisfied: numpy>=1.21.0 in /opt/conda/lib/python3.10/site-packages (from pandas) (1.23.5)\n",
      "Requirement already satisfied: six>=1.5 in /opt/conda/lib/python3.10/site-packages (from python-dateutil>=2.8.1->pandas) (1.16.0)\n",
      "Note: you may need to restart the kernel to use updated packages.\n"
     ]
    }
   ],
   "source": [
    "pip install pandas"
   ]
  },
  {
   "cell_type": "code",
   "execution_count": 2,
   "id": "2ed97827-3a93-480f-9036-bb5763df28e6",
   "metadata": {},
   "outputs": [],
   "source": [
    "import pandas as p"
   ]
  },
  {
   "cell_type": "markdown",
   "id": "dfa8f598-7a8c-48bc-a11e-7c0ce4106194",
   "metadata": {},
   "source": [
    "Q1. Create a Pandas Series that contains the following data: 4, 8, 15, 16, 23, and 42. Then, print the series."
   ]
  },
  {
   "cell_type": "code",
   "execution_count": 3,
   "id": "d6d11a6e-e965-4a69-b81d-f73fed98213b",
   "metadata": {},
   "outputs": [
    {
     "name": "stdout",
     "output_type": "stream",
     "text": [
      "0     4\n",
      "1     8\n",
      "2    15\n",
      "3    16\n",
      "4    23\n",
      "5    42\n",
      "dtype: int64\n"
     ]
    }
   ],
   "source": [
    "s=p.Series([4,8,15,16,23,42])\n",
    "print(s)"
   ]
  },
  {
   "cell_type": "markdown",
   "id": "108716a0-3123-4cff-8bfb-12d2a3fe2993",
   "metadata": {},
   "source": [
    "Q2. Create a variable of list type containing 10 elements in it, and apply pandas.Series function on the\n",
    "variable print it."
   ]
  },
  {
   "cell_type": "code",
   "execution_count": 4,
   "id": "be25d36e-50f2-45c1-af3d-4e72d0e73917",
   "metadata": {},
   "outputs": [
    {
     "name": "stdout",
     "output_type": "stream",
     "text": [
      "0     1\n",
      "1     2\n",
      "2     3\n",
      "3     4\n",
      "4     5\n",
      "5     6\n",
      "6     7\n",
      "7     8\n",
      "8     9\n",
      "9    10\n",
      "dtype: int64\n"
     ]
    }
   ],
   "source": [
    "l=[1,2,3,4,5,6,7,8,9,10]\n",
    "s1=p.Series(l)\n",
    "print(s1)"
   ]
  },
  {
   "cell_type": "markdown",
   "id": "6f8ea99e-7981-4a62-b0ce-7eb5ca1d0175",
   "metadata": {},
   "source": [
    "Q3. Create a Pandas DataFrame that contains the following data:\n",
    "    \n",
    "        NameError     Age    Gender\n",
    "        Alice         25     Female\n",
    "        Bob           30     Male\n",
    "        Claire        27     Female        \n",
    "Then, print the DataFrame."
   ]
  },
  {
   "cell_type": "code",
   "execution_count": 5,
   "id": "89014d42-fa8f-4a25-aff8-28946af610be",
   "metadata": {},
   "outputs": [
    {
     "name": "stdout",
     "output_type": "stream",
     "text": [
      "     Name  Age  Gender\n",
      "0   Alice   25  Female\n",
      "1     Bob   30    Male\n",
      "2  Claire   27  Female\n"
     ]
    }
   ],
   "source": [
    "data = {\n",
    "    'Name': ['Alice', 'Bob', 'Claire'],\n",
    "    'Age': [25, 30, 27],\n",
    "    'Gender': ['Female', 'Male', 'Female']\n",
    "}\n",
    "df = p.DataFrame(data)\n",
    "print(df)"
   ]
  },
  {
   "cell_type": "markdown",
   "id": "04f252a4-32e5-4474-bacc-186104115729",
   "metadata": {},
   "source": [
    "Q4. What is ‘DataFrame’ in pandas and how is it different from pandas.series? Explain with an example."
   ]
  },
  {
   "cell_type": "code",
   "execution_count": 6,
   "id": "330be873-6ce8-4a94-b6ec-b4c16d1d4fd1",
   "metadata": {},
   "outputs": [
    {
     "name": "stdout",
     "output_type": "stream",
     "text": [
      "     Name  Age  Gender\n",
      "0   Alice   25  Female\n",
      "1     Bob   30    Male\n",
      "2  Claire   27  Female\n",
      "0    25\n",
      "1    30\n",
      "2    27\n",
      "Name: Age, dtype: int64\n"
     ]
    }
   ],
   "source": [
    "# Answer:\n",
    "'''A DataFrame is a two-dimensional table-like data structure, while a Series is a one-dimensional column-like data structure. \n",
    "    A DataFrame can contain multiple columns and rows, while a Series contains only one column of data with an index.'''\n",
    "\n",
    "# Example of DataFrame\n",
    "data = {\n",
    "    'Name': ['Alice', 'Bob', 'Claire'],\n",
    "    'Age': [25, 30, 27],\n",
    "    'Gender': ['Female', 'Male', 'Female']\n",
    "}\n",
    "df = p.DataFrame(data)\n",
    "print(df)\n",
    "\n",
    "# Example of Series\n",
    "age_series = df['Age']\n",
    "print(age_series)"
   ]
  },
  {
   "cell_type": "markdown",
   "id": "e3f4c17a-bccc-4019-9dd2-ab3a7d37aa34",
   "metadata": {},
   "source": [
    "Q5. What are some common functions you can use to manipulate data in a Pandas DataFrame? Can\n",
    "you give an example of when you might use one of these functions?"
   ]
  },
  {
   "cell_type": "code",
   "execution_count": 7,
   "id": "8f323d08-8b3b-4ab7-b1e4-0d14a72d2a36",
   "metadata": {},
   "outputs": [],
   "source": [
    "# df.head(n) - returns the first n rows of the DataFrame.\n",
    "# Example: df.head(10) - returns the first 10 rows of the DataFrame.\n",
    "\n",
    "# df.tail(n) - returns the last n rows of the DataFrame.\n",
    "# Example: df.tail(5) - returns the last 5 rows of the DataFrame.\n",
    "\n",
    "# df.describe() - provides summary statistics for numerical columns in the DataFrame.\n",
    "# Example: df.describe() - returns count, mean, standard deviation, minimum, and maximum values for numerical columns.\n",
    "\n",
    "# df.info() - displays information about the DataFrame, including the number of non-null values in each column and the data type of each column.\n",
    "# Example: df.info() - displays information about the DataFrame"
   ]
  },
  {
   "cell_type": "markdown",
   "id": "f931f52c-90a2-42df-9624-7711501fc874",
   "metadata": {},
   "source": [
    "Q6. Which of the following is mutable in nature Series, DataFrame, Panel?"
   ]
  },
  {
   "cell_type": "code",
   "execution_count": 8,
   "id": "f86b124a-5ea7-4709-a2d2-c56dc270385c",
   "metadata": {},
   "outputs": [
    {
     "data": {
      "text/plain": [
       "'Series and DataFrame both are mutable in nature, which means that you can modify their values,\\n    add or delete rows or columns, and change their structure.\\n    Panel is a 3-dimensional data structure in Pandas which is used less frequently compared to Series and DataFrame.However, it is also mutable in nature,\\n    and you can add or remove items, change the values of individual items, and modify the structure of the Panel.'"
      ]
     },
     "execution_count": 8,
     "metadata": {},
     "output_type": "execute_result"
    }
   ],
   "source": [
    "#Answer:\n",
    "'''Series and DataFrame both are mutable in nature, which means that you can modify their values,\n",
    "    add or delete rows or columns, and change their structure.\n",
    "    Panel is a 3-dimensional data structure in Pandas which is used less frequently compared to Series and DataFrame.However, it is also mutable in nature,\n",
    "    and you can add or remove items, change the values of individual items, and modify the structure of the Panel.'''"
   ]
  },
  {
   "cell_type": "markdown",
   "id": "439f3f17-398f-485d-ba9f-da3dda3a6965",
   "metadata": {},
   "source": [
    "Q7. Create a DataFrame using multiple Series. Explain with an example."
   ]
  },
  {
   "cell_type": "code",
   "execution_count": 9,
   "id": "99398250-84e6-4772-8c8d-82f7bb0a13c6",
   "metadata": {},
   "outputs": [
    {
     "name": "stdout",
     "output_type": "stream",
     "text": [
      "     Name  Age  Gender\n",
      "0   Alice   25  Female\n",
      "1     Bob   30    Male\n",
      "2  Claire   27  Female\n"
     ]
    }
   ],
   "source": [
    "name_series = p.Series(['Alice', 'Bob', 'Claire'])\n",
    "age_series = p.Series([25, 30, 27])\n",
    "gender_series = p.Series(['Female', 'Male', 'Female'])\n",
    "\n",
    "# Creating a DataFrame using the Series\n",
    "data = {'Name': name_series, 'Age': age_series, 'Gender': gender_series}\n",
    "df = p.DataFrame(data)\n",
    "print(df)\n"
   ]
  },
  {
   "cell_type": "code",
   "execution_count": null,
   "id": "57bc64a2-40ce-4f17-bd1b-0f332d7c6070",
   "metadata": {},
   "outputs": [],
   "source": []
  },
  {
   "cell_type": "code",
   "execution_count": null,
   "id": "4c777f4a-d585-4c1c-9989-02c8bd770f4e",
   "metadata": {},
   "outputs": [],
   "source": []
  }
 ],
 "metadata": {
  "kernelspec": {
   "display_name": "Python 3 (ipykernel)",
   "language": "python",
   "name": "python3"
  },
  "language_info": {
   "codemirror_mode": {
    "name": "ipython",
    "version": 3
   },
   "file_extension": ".py",
   "mimetype": "text/x-python",
   "name": "python",
   "nbconvert_exporter": "python",
   "pygments_lexer": "ipython3",
   "version": "3.10.8"
  }
 },
 "nbformat": 4,
 "nbformat_minor": 5
}
