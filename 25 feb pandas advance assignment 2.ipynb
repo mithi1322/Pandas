{
 "cells": [
  {
   "cell_type": "markdown",
   "id": "0132a3ca-7eb1-489b-bbb9-c73e372d7cb6",
   "metadata": {},
   "source": [
    "Consider following code to answer further questions:\n",
    "\n",
    "import pandas as pd\n",
    "\n",
    "course_name = [‘Data Science’, ‘Machine Learning’, ‘Big Data’, ‘Data Engineer’]\n",
    "\n",
    "duration =  [2,3,6,4]\n",
    "\n",
    "df = pd.DataFrame(data = {‘course_name’ : course_name, ‘duration’ : duration})"
   ]
  },
  {
   "cell_type": "code",
   "execution_count": 1,
   "id": "8e9b614b-74ee-4a6f-a1d1-0b8d68e5e60e",
   "metadata": {},
   "outputs": [
    {
     "data": {
      "text/html": [
       "<div>\n",
       "<style scoped>\n",
       "    .dataframe tbody tr th:only-of-type {\n",
       "        vertical-align: middle;\n",
       "    }\n",
       "\n",
       "    .dataframe tbody tr th {\n",
       "        vertical-align: top;\n",
       "    }\n",
       "\n",
       "    .dataframe thead th {\n",
       "        text-align: right;\n",
       "    }\n",
       "</style>\n",
       "<table border=\"1\" class=\"dataframe\">\n",
       "  <thead>\n",
       "    <tr style=\"text-align: right;\">\n",
       "      <th></th>\n",
       "      <th>course_name</th>\n",
       "      <th>duration</th>\n",
       "    </tr>\n",
       "  </thead>\n",
       "  <tbody>\n",
       "    <tr>\n",
       "      <th>0</th>\n",
       "      <td>Data Science</td>\n",
       "      <td>2</td>\n",
       "    </tr>\n",
       "    <tr>\n",
       "      <th>1</th>\n",
       "      <td>Machine Learning</td>\n",
       "      <td>3</td>\n",
       "    </tr>\n",
       "    <tr>\n",
       "      <th>2</th>\n",
       "      <td>Big Data</td>\n",
       "      <td>6</td>\n",
       "    </tr>\n",
       "    <tr>\n",
       "      <th>3</th>\n",
       "      <td>Data Engineer</td>\n",
       "      <td>4</td>\n",
       "    </tr>\n",
       "  </tbody>\n",
       "</table>\n",
       "</div>"
      ],
      "text/plain": [
       "        course_name  duration\n",
       "0      Data Science         2\n",
       "1  Machine Learning         3\n",
       "2          Big Data         6\n",
       "3     Data Engineer         4"
      ]
     },
     "execution_count": 1,
     "metadata": {},
     "output_type": "execute_result"
    }
   ],
   "source": [
    "import pandas as pd\n",
    "course_name = ['Data Science', 'Machine Learning', 'Big Data', 'Data Engineer']\n",
    "duration = [2,3,6,4]\n",
    "df = pd.DataFrame(data = {'course_name' : course_name, 'duration' : duration})\n",
    "df"
   ]
  },
  {
   "cell_type": "markdown",
   "id": "a1f34f21-607c-49d4-896d-a6c525723d03",
   "metadata": {},
   "source": [
    "Q1. Write a code to print the data present in the second row of the dataframe, df."
   ]
  },
  {
   "cell_type": "code",
   "execution_count": 2,
   "id": "58d27180-42f4-4228-b1e1-c8c5b5edb2e8",
   "metadata": {},
   "outputs": [
    {
     "name": "stdout",
     "output_type": "stream",
     "text": [
      "course_name    Machine Learning\n",
      "duration                      3\n",
      "Name: 1, dtype: object\n"
     ]
    }
   ],
   "source": [
    "print(df.iloc[1])\n"
   ]
  },
  {
   "cell_type": "markdown",
   "id": "cc253ab4-bb83-4440-840f-6f102329a121",
   "metadata": {},
   "source": [
    "Q2. What is the difference between the functions loc and iloc in pandas.DataFrame?"
   ]
  },
  {
   "cell_type": "code",
   "execution_count": 3,
   "id": "52d82203-f6a0-40b8-9544-7425d4026b4b",
   "metadata": {},
   "outputs": [
    {
     "data": {
      "text/plain": [
       "'loc uses the labels of the index and columns while iloc uses the integer positions of the index and columns to select the data.'"
      ]
     },
     "execution_count": 3,
     "metadata": {},
     "output_type": "execute_result"
    }
   ],
   "source": [
    "# Answer:\n",
    "'''loc uses the labels of the index and columns while iloc uses the integer positions of the index and columns to select the data.'''"
   ]
  },
  {
   "cell_type": "markdown",
   "id": "6fd3d162-ae67-44d5-9f90-fce85a6ae177",
   "metadata": {},
   "source": [
    "Q3. Reindex the given dataframe using a variable, reindex = [3,0,1,2] and store it in the variable, new_df \n",
    "then find the output for both new_df.loc[2] and new_df.iloc[2]."
   ]
  },
  {
   "cell_type": "code",
   "execution_count": 4,
   "id": "60216216-bea2-49d2-bf15-c9231c21eb5d",
   "metadata": {},
   "outputs": [
    {
     "name": "stdout",
     "output_type": "stream",
     "text": [
      "        course_name  duration\n",
      "3     Data Engineer         4\n",
      "0      Data Science         2\n",
      "1  Machine Learning         3\n",
      "2          Big Data         6\n",
      "course_name    Big Data\n",
      "duration              6\n",
      "Name: 2, dtype: object\n",
      "course_name    Machine Learning\n",
      "duration                      3\n",
      "Name: 1, dtype: object\n"
     ]
    }
   ],
   "source": [
    "reindex = [3,0,1,2]\n",
    "new_df = df.reindex(reindex)\n",
    "print(new_df)\n",
    "print(new_df.loc[2])\n",
    "print(new_df.iloc[2])"
   ]
  },
  {
   "cell_type": "markdown",
   "id": "678c246d-b543-42d1-a15b-cf562f2e16fe",
   "metadata": {},
   "source": [
    "Did you observe any difference in both the outputs? If so then explain it.\n",
    "\n",
    "Consider the below code to answer further questions:\n",
    "import pandas as pd\n",
    "\n",
    "import numpy as np\n",
    "\n",
    "columns = ['column_1', 'column_2', 'column_3', 'column_4', 'column_5', 'column_6']\n",
    "\n",
    "indices = [1,2,3,4,5,6]\n",
    "\n",
    "#Creating a dataframe:\n",
    "\n",
    "df1 = pd.DataFrame(np.random.rand(6,6), columns = columns, index = indices)\n"
   ]
  },
  {
   "cell_type": "code",
   "execution_count": 5,
   "id": "e45ba0a3-d7d3-4e4e-95b9-c690ba5df9b1",
   "metadata": {},
   "outputs": [],
   "source": [
    "import pandas as pd\n",
    "import numpy as np\n",
    "columns = ['column_1', 'column_2', 'column_3', 'column_4', 'column_5', 'column_6']\n",
    "indices = [1,2,3,4,5,6]\n",
    "#Creating a dataframe:\n",
    "df1 = pd.DataFrame(np.random.rand(6,6), columns = columns, index = indices)"
   ]
  },
  {
   "cell_type": "markdown",
   "id": "83520bb4-9639-4f39-84e5-40133d8c9e0d",
   "metadata": {},
   "source": [
    "Q4. Write a code to find the following statistical measurements for the above dataframe df1:\n",
    "\n",
    "(i) \tmean of each and every column present in the dataframe.\n",
    "\n",
    "(ii) standard deviation of column, ‘column_2’\n"
   ]
  },
  {
   "cell_type": "code",
   "execution_count": 6,
   "id": "212ca87f-9eab-4b9d-a18c-fbdcdf4d9df1",
   "metadata": {},
   "outputs": [
    {
     "name": "stdout",
     "output_type": "stream",
     "text": [
      "Mean of each column:\n",
      " column_1    0.492680\n",
      "column_2    0.671660\n",
      "column_3    0.459193\n",
      "column_4    0.468640\n",
      "column_5    0.305650\n",
      "column_6    0.567793\n",
      "dtype: float64\n",
      "\n",
      "Standard deviation of column 'column_2': 0.20359692095485615\n"
     ]
    }
   ],
   "source": [
    "# 1.Mean of each column:\n",
    "mean_of_columns = df1.mean()\n",
    "print(\"Mean of each column:\\n\", mean_of_columns)\n",
    "\n",
    "# 2.Standard deviation of column 'column_2':\n",
    "std_column_2 = df1['column_2'].std()\n",
    "print(\"\\nStandard deviation of column 'column_2':\", std_column_2)"
   ]
  },
  {
   "cell_type": "markdown",
   "id": "725c2987-442d-447e-a2d3-9527bde5bda2",
   "metadata": {},
   "source": [
    "Q5. Replace the data present in the second row of column, ‘column_2’ by a string variable then find the \n",
    "mean of column, column_2.\n",
    "\n",
    "If you are getting errors in executing it then explain why.\n",
    "\n",
    "[Hint: To replace the data use df1.loc[] and equate this to string data of your choice.]\n",
    "\n"
   ]
  },
  {
   "cell_type": "code",
   "execution_count": 8,
   "id": "0c5115ff-4780-484a-8e5f-218eb63c9e7c",
   "metadata": {},
   "outputs": [
    {
     "data": {
      "text/plain": [
       "\" This code gives TypeError because it cannot calculate the mean of a string data type.In this case, \\n    it is necessary to convert the column 'column_2' back to a numeric data type before computing the mean.\""
      ]
     },
     "execution_count": 8,
     "metadata": {},
     "output_type": "execute_result"
    }
   ],
   "source": [
    "df1.loc[2, 'column_2'] = 'some_string'\n",
    "mean_column2 = df1['column_2'].mean()\n",
    "print(mean_column2) \n",
    "\n",
    "# Reason:\n",
    "''' This code gives TypeError because it cannot calculate the mean of a string data type.In this case, \n",
    "    it is necessary to convert the column 'column_2' back to a numeric data type before computing the mean.'''"
   ]
  },
  {
   "cell_type": "markdown",
   "id": "a363dc5f-589c-41b8-bc83-48564b3b7ba2",
   "metadata": {},
   "source": [
    "Q6. What do you understand about the windows function in pandas and list the types of windows functions?\n"
   ]
  },
  {
   "cell_type": "code",
   "execution_count": 9,
   "id": "927e060c-ad55-4937-8333-34be66a45dfb",
   "metadata": {},
   "outputs": [
    {
     "data": {
      "text/plain": [
       "'[Rolling Window,Expanding Window,Exponential Weighted Moving Average,Rolling Apply,Rolling Aggregations,Groupby Rolling]'"
      ]
     },
     "execution_count": 9,
     "metadata": {},
     "output_type": "execute_result"
    }
   ],
   "source": [
    "# Answer:\n",
    "'''In Pandas, the window function is a way of performing calculations on a moving subset of data in a DataFrame or Series.\n",
    "    It allows us to define a window or subset of data over which we can apply various statistical or mathematical calculations such as mean, median, min, max, etc.'''\n",
    "# list of window function \n",
    "'''[Rolling Window,Expanding Window,Exponential Weighted Moving Average,Rolling Apply,Rolling Aggregations,Groupby Rolling]'''"
   ]
  },
  {
   "cell_type": "markdown",
   "id": "cdcee491-1ea8-4332-9155-eed8ce1117e8",
   "metadata": {},
   "source": [
    "Q7. Write a code to print only the current month and year at the time of answering this question.\n",
    "\n",
    "[Hint: Use pandas.datetime function]\n"
   ]
  },
  {
   "cell_type": "code",
   "execution_count": 10,
   "id": "151c5765-44c7-4a93-abe8-62dea433fc0e",
   "metadata": {},
   "outputs": [
    {
     "name": "stdout",
     "output_type": "stream",
     "text": [
      "April 2023\n"
     ]
    },
    {
     "name": "stderr",
     "output_type": "stream",
     "text": [
      "/tmp/ipykernel_2624/2454931978.py:1: FutureWarning: The pandas.datetime class is deprecated and will be removed from pandas in a future version. Import from datetime module instead.\n",
      "  current_date = pd.datetime.now()\n"
     ]
    }
   ],
   "source": [
    "current_date = pd.datetime.now()\n",
    "print(current_date.strftime('%B %Y'))"
   ]
  },
  {
   "cell_type": "markdown",
   "id": "5e9a6d94-ff50-489b-88fb-79d7859f19a4",
   "metadata": {},
   "source": [
    "Q8. Write a Python program that takes in two dates as input (in the format YYYY-MM-DD) and \n",
    "calculates the difference between them in days, hours, and minutes using Pandas time delta. The \n",
    "program should prompt the user to enter the dates and display the result."
   ]
  },
  {
   "cell_type": "code",
   "execution_count": 12,
   "id": "4ffcaf26-ae38-4939-a03e-874263dbe804",
   "metadata": {},
   "outputs": [
    {
     "name": "stdin",
     "output_type": "stream",
     "text": [
      "Enter the first date (YYYY-MM-DD):  2023-04-17\n",
      "Enter the second date (YYYY-MM-DD):  2023-04-29\n"
     ]
    },
    {
     "name": "stdout",
     "output_type": "stream",
     "text": [
      "The difference between 2023-04-17 and 2023-04-29 is 12 days, 0 hours, and 0 minutes.\n"
     ]
    }
   ],
   "source": [
    "date1 = input(\"Enter the first date (YYYY-MM-DD): \")\n",
    "date2 = input(\"Enter the second date (YYYY-MM-DD): \")\n",
    "date1 = pd.to_datetime(date1)\n",
    "date2 = pd.to_datetime(date2)\n",
    "time_diff = date2 - date1\n",
    "\n",
    "# Extract the days, hours, and minutes from the timedelta object\n",
    "days = time_diff.days\n",
    "hours = time_diff.seconds // 3600\n",
    "minutes = (time_diff.seconds % 3600) // 60\n",
    "print(f\"The difference between {date1.date()} and {date2.date()} is {days} days, {hours} hours, and {minutes} minutes.\")\n"
   ]
  },
  {
   "cell_type": "markdown",
   "id": "34725fef-0934-48ff-949b-a4cac87504a7",
   "metadata": {},
   "source": [
    "Q9. Write a Python program that reads a CSV file containing categorical data and converts a specified \n",
    "column to a categorical data type. The program should prompt the user to enter the file path, column \n",
    "name, and category order, and then display the sorted data."
   ]
  },
  {
   "cell_type": "code",
   "execution_count": 14,
   "id": "8e08c5da-9e8a-4857-a276-3f0da44a0f09",
   "metadata": {},
   "outputs": [
    {
     "name": "stdin",
     "output_type": "stream",
     "text": [
      "Enter the file path:  taxonomy.csv\n",
      "Enter the column name to convert to categorical data:  name\n",
      "Enter the category order (separated by commas):  Clothing\n"
     ]
    },
    {
     "name": "stdout",
     "output_type": "stream",
     "text": [
      "    taxonomy_id      name parent_id           parent_name\n",
      "50       104-02  Clothing       104                 Goods\n",
      "0           101       NaN       NaN                   NaN\n",
      "1        101-01       NaN       101             Emergency\n",
      "2        101-02       NaN       101             Emergency\n",
      "3     101-02-01       NaN    101-02        Emergency Cash\n",
      "..          ...       ...       ...                   ...\n",
      "285   111-01-07       NaN    111-01  Advocacy & Legal Aid\n",
      "286      111-02       NaN       111                 Legal\n",
      "287      111-03       NaN       111                 Legal\n",
      "288      111-04       NaN       111                 Legal\n",
      "289      111-05       NaN       111                 Legal\n",
      "\n",
      "[290 rows x 4 columns]\n"
     ]
    }
   ],
   "source": [
    "file_path = input(\"Enter the file path: \")\n",
    "column_name = input(\"Enter the column name to convert to categorical data: \")\n",
    "category_order = input(\"Enter the category order (separated by commas): \").split(\",\")\n",
    "# Read CSV file\n",
    "df = pd.read_csv(file_path)\n",
    "# Convert column to categorical data type\n",
    "df[column_name] = pd.Categorical(df[column_name], categories=category_order)\n",
    "# Sort data by the specified column\n",
    "df = df.sort_values(by=column_name)\n",
    "print(df)\n"
   ]
  },
  {
   "cell_type": "markdown",
   "id": "f79ee4b6-5b86-4cfa-a447-5d818f89067f",
   "metadata": {},
   "source": [
    "Q10. Write a Python program that reads a CSV file containing sales data for different products and \n",
    "visualizes the data using a stacked bar chart to show the sales of each product category over time. The \n",
    "program should prompt the user to enter the file path and display the chart.\n"
   ]
  },
  {
   "cell_type": "code",
   "execution_count": null,
   "id": "2934363c-c8bc-427f-ad69-7febc6dd97f1",
   "metadata": {},
   "outputs": [],
   "source": [
    "import pandas as pd\n",
    "import matplotlib.pyplot as plt\n",
    "\n",
    "file_path = input(\"Enter the file path of the CSV file: \")\n",
    "df = pd.read_csv(file_path)\n",
    "df['Date'] = pd.to_datetime(df['Date'])\n",
    "\n",
    "# group data by product category and time period\n",
    "df_grouped = df.groupby(['Product Category', pd.Grouper(key='Date', freq='M')])['Sales'].sum().reset_index()\n",
    "\n",
    "# pivot table to reshape data for stacked bar chart\n",
    "df_pivot = df_grouped.pivot(index='Date', columns='Product Category', values='Sales')\n",
    "\n",
    "# plot stacked bar chart\n",
    "ax = df_pivot.plot(kind='bar', stacked=True, figsize=(10,6))\n",
    "ax.set_xlabel('Time Period (Monthly)')\n",
    "ax.set_ylabel('Sales')\n",
    "ax.set_title('Sales by Product Category over Time')\n",
    "plt.show()\n"
   ]
  },
  {
   "cell_type": "markdown",
   "id": "cf7b5c38-0e34-41b6-9c4f-d8e48afb4acd",
   "metadata": {},
   "source": [
    "Q11. You are given a CSV file containing student data that includes the student ID and their test score. Write \n",
    "a Python program that reads the CSV file, calculates the mean, median, and mode of the test scores, and \n",
    "displays the results in a table.\n",
    "The program should do the followingM\n",
    "I Prompt the user to enter the file path of the CSV file containing the student dataR\n",
    "I Read the CSV file into a Pandas DataFrameR\n",
    "I Calculate the mean, median, and mode of the test scores using Pandas toolsR\n",
    "I Display the mean, median, and mode in a table.\n",
    "\n",
    "Assume the CSV file contains the following columnsM\n",
    "I Student ID: The ID of the studentR\n",
    "I Test Score: The score of the student's test.\n",
    "Example usage of the program:\n",
    "\n",
    "Enter the file path of the CSV file containing the student data: student_data.csv\n",
    "\n",
    "\n",
    "+-----------+--------+\n",
    "\n",
    "| Statistic | Value  |\n",
    "\n",
    "+-----------+--------+\n",
    "\n",
    "| Mean      | 79.6   |\n",
    "\n",
    "| Median    | 82     |\n",
    "\n",
    "| Mode      | 85, 90 |\n",
    "\n",
    "+-----------+--------+\n",
    "\n",
    "\n",
    "Assume that the CSV file student_data.csv contains the following data:\n",
    "\n",
    "Student ID,Test Score\n",
    "\n",
    "1,85\n",
    "\n",
    "2,90\n",
    "\n",
    "3,80\n",
    "\n",
    "4,75\n",
    "\n",
    "5,85\n",
    "\n",
    "6,82\n",
    "\n",
    "7,78\n",
    "\n",
    "8,85\n",
    "\n",
    "9,90\n",
    "\n",
    "10,85\n",
    "\n",
    "\n",
    "The program should calculate the mean, median, and mode of the test scores and display the results \n",
    "in a table"
   ]
  },
  {
   "cell_type": "code",
   "execution_count": null,
   "id": "e332cd08-7194-4f4f-93ec-8df417fadb8a",
   "metadata": {},
   "outputs": [],
   "source": [
    "import pandas as pd\n",
    "\n",
    "file_path = input(\"Enter the file path of the CSV file containing the student data: \")\n",
    "# Read the CSV file\n",
    "df = pd.read_csv(file_path)\n",
    "\n",
    "# Calculate the mean, median, and mode of the test scores\n",
    "mean = df['Test Score'].mean()\n",
    "median = df['Test Score'].median()\n",
    "mode = df['Test Score'].mode().tolist()\n",
    "\n",
    "# Display the mean, median, and mode in a table\n",
    "table = pd.DataFrame({'Statistic': ['Mean', 'Median', 'Mode'], 'Value': [mean, median, mode]})\n",
    "print(table)\n"
   ]
  },
  {
   "cell_type": "code",
   "execution_count": null,
   "id": "3a5ae8f1-b672-471d-99e4-722760202698",
   "metadata": {},
   "outputs": [],
   "source": []
  },
  {
   "cell_type": "code",
   "execution_count": null,
   "id": "92197dad-cec9-4a9e-a9df-7436c423c6eb",
   "metadata": {},
   "outputs": [],
   "source": []
  },
  {
   "cell_type": "code",
   "execution_count": null,
   "id": "4de52b93-b297-4ad1-8ee9-9e849b865754",
   "metadata": {},
   "outputs": [],
   "source": []
  }
 ],
 "metadata": {
  "kernelspec": {
   "display_name": "Python 3 (ipykernel)",
   "language": "python",
   "name": "python3"
  },
  "language_info": {
   "codemirror_mode": {
    "name": "ipython",
    "version": 3
   },
   "file_extension": ".py",
   "mimetype": "text/x-python",
   "name": "python",
   "nbconvert_exporter": "python",
   "pygments_lexer": "ipython3",
   "version": "3.10.8"
  }
 },
 "nbformat": 4,
 "nbformat_minor": 5
}
